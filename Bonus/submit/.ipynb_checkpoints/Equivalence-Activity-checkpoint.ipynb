{
 "cells": [
  {
   "cell_type": "code",
   "execution_count": 12,
   "metadata": {
    "collapsed": false
   },
   "outputs": [
    {
     "name": "stdout",
     "output_type": "stream",
     "text": [
      "The sql extension is already loaded. To reload it, use:\n",
      "  %reload_ext sql\n"
     ]
    },
    {
     "data": {
      "text/plain": [
       "'Connected: None@None'"
      ]
     },
     "execution_count": 12,
     "metadata": {},
     "output_type": "execute_result"
    }
   ],
   "source": [
    "%load_ext sql\n",
    "%sql sqlite://"
   ]
  },
  {
   "cell_type": "markdown",
   "metadata": {},
   "source": [
    "Equivalence Activity\n",
    "------------\n",
    "\n",
    "First load the following tables:"
   ]
  },
  {
   "cell_type": "code",
   "execution_count": 13,
   "metadata": {
    "collapsed": false
   },
   "outputs": [
    {
     "name": "stdout",
     "output_type": "stream",
     "text": [
      "Done.\n",
      "Done.\n",
      "1 rows affected.\n",
      "1 rows affected.\n",
      "1 rows affected.\n",
      "1 rows affected.\n",
      "1 rows affected.\n",
      "1 rows affected.\n",
      "1 rows affected.\n"
     ]
    },
    {
     "data": {
      "text/plain": [
       "[]"
      ]
     },
     "execution_count": 13,
     "metadata": {},
     "output_type": "execute_result"
    }
   ],
   "source": [
    "%%sql\n",
    "DROP TABLE IF EXISTS courses;\n",
    "CREATE TABLE courses (course TEXT, staff TEXT, students int, hours int);\n",
    "INSERT INTO courses VALUES ('CS103','Keith', 320, 4);\n",
    "INSERT INTO courses VALUES ('CS145','Chris', 200, 3);\n",
    "INSERT INTO courses VALUES ('CS245','Chris', 100, 4);\n",
    "INSERT INTO courses VALUES ('CS161','Virginia', 400, 3);\n",
    "INSERT INTO courses VALUES ('CS267','Virginia', 50, 4);\n",
    "INSERT INTO courses VALUES ('CS224N','Chris', 250, 4);\n",
    "INSERT INTO courses VALUES ('CS276','Chris', 300, 3);"
   ]
  },
  {
   "cell_type": "code",
   "execution_count": 14,
   "metadata": {
    "collapsed": false
   },
   "outputs": [
    {
     "name": "stdout",
     "output_type": "stream",
     "text": [
      "Done.\n",
      "Done.\n",
      "1 rows affected.\n",
      "1 rows affected.\n",
      "1 rows affected.\n"
     ]
    },
    {
     "data": {
      "text/plain": [
       "[]"
      ]
     },
     "execution_count": 14,
     "metadata": {},
     "output_type": "execute_result"
    }
   ],
   "source": [
    "%%sql\n",
    "DROP TABLE IF EXISTS researchers;\n",
    "CREATE TABLE researchers (topic TEXT, staff TEXT, phds int);\n",
    "INSERT INTO researchers VALUES ('Databases','Chris', 6);\n",
    "INSERT INTO researchers VALUES ('NLP','Chris', 8);\n",
    "INSERT INTO researchers VALUES ('Graph Theory','Virginia', 5);"
   ]
  },
  {
   "cell_type": "markdown",
   "metadata": {},
   "source": [
    "### Overview of some SQL statements:\n",
    "We will be learning about:\n",
    "* HAVING\n",
    "* ANY (not supported in SQLite)\n",
    "* ALL (not supported in SQLite)\n",
    "\n",
    "As well as DeMorgan's Laws for using NOT before these clauses"
   ]
  },
  {
   "cell_type": "code",
   "execution_count": 15,
   "metadata": {
    "collapsed": false
   },
   "outputs": [
    {
     "name": "stdout",
     "output_type": "stream",
     "text": [
      "Done.\n"
     ]
    },
    {
     "data": {
      "text/html": [
       "<table>\n",
       "    <tr>\n",
       "        <th>course</th>\n",
       "        <th>staff</th>\n",
       "        <th>students</th>\n",
       "        <th>hours</th>\n",
       "    </tr>\n",
       "    <tr>\n",
       "        <td>CS103</td>\n",
       "        <td>Keith</td>\n",
       "        <td>320</td>\n",
       "        <td>4</td>\n",
       "    </tr>\n",
       "    <tr>\n",
       "        <td>CS145</td>\n",
       "        <td>Chris</td>\n",
       "        <td>200</td>\n",
       "        <td>3</td>\n",
       "    </tr>\n",
       "    <tr>\n",
       "        <td>CS245</td>\n",
       "        <td>Chris</td>\n",
       "        <td>100</td>\n",
       "        <td>4</td>\n",
       "    </tr>\n",
       "    <tr>\n",
       "        <td>CS161</td>\n",
       "        <td>Virginia</td>\n",
       "        <td>400</td>\n",
       "        <td>3</td>\n",
       "    </tr>\n",
       "    <tr>\n",
       "        <td>CS267</td>\n",
       "        <td>Virginia</td>\n",
       "        <td>50</td>\n",
       "        <td>4</td>\n",
       "    </tr>\n",
       "    <tr>\n",
       "        <td>CS224N</td>\n",
       "        <td>Chris</td>\n",
       "        <td>250</td>\n",
       "        <td>4</td>\n",
       "    </tr>\n",
       "    <tr>\n",
       "        <td>CS276</td>\n",
       "        <td>Chris</td>\n",
       "        <td>300</td>\n",
       "        <td>3</td>\n",
       "    </tr>\n",
       "</table>"
      ],
      "text/plain": [
       "[(u'CS103', u'Keith', 320, 4),\n",
       " (u'CS145', u'Chris', 200, 3),\n",
       " (u'CS245', u'Chris', 100, 4),\n",
       " (u'CS161', u'Virginia', 400, 3),\n",
       " (u'CS267', u'Virginia', 50, 4),\n",
       " (u'CS224N', u'Chris', 250, 4),\n",
       " (u'CS276', u'Chris', 300, 3)]"
      ]
     },
     "execution_count": 15,
     "metadata": {},
     "output_type": "execute_result"
    }
   ],
   "source": [
    "%%sql\n",
    "select * \n",
    "from courses"
   ]
  },
  {
   "cell_type": "markdown",
   "metadata": {},
   "source": [
    "### HAVING\n",
    "We can use this to condition on aggregates, as well as grouping by specific attributes"
   ]
  },
  {
   "cell_type": "code",
   "execution_count": 16,
   "metadata": {
    "collapsed": false
   },
   "outputs": [
    {
     "name": "stdout",
     "output_type": "stream",
     "text": [
      "Done.\n"
     ]
    },
    {
     "data": {
      "text/html": [
       "<table>\n",
       "    <tr>\n",
       "        <th>staff</th>\n",
       "    </tr>\n",
       "    <tr>\n",
       "        <td>Chris</td>\n",
       "    </tr>\n",
       "</table>"
      ],
      "text/plain": [
       "[(u'Chris',)]"
      ]
     },
     "execution_count": 16,
     "metadata": {},
     "output_type": "execute_result"
    }
   ],
   "source": [
    "%%sql\n",
    "SELECT staff\n",
    "FROM courses\n",
    "GROUP BY staff\n",
    "HAVING Sum(students) > 500"
   ]
  },
  {
   "cell_type": "markdown",
   "metadata": {},
   "source": [
    "What happens when you try selecting something that is not grouped? See for yourself, does this make any sense?"
   ]
  },
  {
   "cell_type": "code",
   "execution_count": 17,
   "metadata": {
    "collapsed": false
   },
   "outputs": [
    {
     "name": "stdout",
     "output_type": "stream",
     "text": [
      "Done.\n"
     ]
    },
    {
     "data": {
      "text/html": [
       "<table>\n",
       "    <tr>\n",
       "        <th>students</th>\n",
       "    </tr>\n",
       "    <tr>\n",
       "        <td>300</td>\n",
       "    </tr>\n",
       "</table>"
      ],
      "text/plain": [
       "[(300,)]"
      ]
     },
     "execution_count": 17,
     "metadata": {},
     "output_type": "execute_result"
    }
   ],
   "source": [
    "%%sql\n",
    "SELECT students\n",
    "FROM courses\n",
    "GROUP BY staff\n",
    "HAVING Sum(students) > 500"
   ]
  },
  {
   "cell_type": "markdown",
   "metadata": {},
   "source": [
    "### Activity 1\n",
    "Can you rewrite the following query using the HAVING clause?"
   ]
  },
  {
   "cell_type": "code",
   "execution_count": 18,
   "metadata": {
    "collapsed": false
   },
   "outputs": [
    {
     "name": "stdout",
     "output_type": "stream",
     "text": [
      "Done.\n"
     ]
    },
    {
     "data": {
      "text/html": [
       "<table>\n",
       "    <tr>\n",
       "        <th>staff</th>\n",
       "    </tr>\n",
       "    <tr>\n",
       "        <td>Virginia</td>\n",
       "    </tr>\n",
       "</table>"
      ],
      "text/plain": [
       "[(u'Virginia',)]"
      ]
     },
     "execution_count": 18,
     "metadata": {},
     "output_type": "execute_result"
    }
   ],
   "source": [
    "%%sql\n",
    "SELECT staff\n",
    "FROM courses\n",
    "WHERE students = (\n",
    "    SELECT MAX(students)\n",
    "    FROM courses\n",
    ")"
   ]
  },
  {
   "cell_type": "code",
   "execution_count": 19,
   "metadata": {
    "collapsed": false
   },
   "outputs": [
    {
     "name": "stdout",
     "output_type": "stream",
     "text": [
      "Done.\n"
     ]
    },
    {
     "data": {
      "text/html": [
       "<table>\n",
       "    <tr>\n",
       "        <th>staff</th>\n",
       "    </tr>\n",
       "    <tr>\n",
       "        <td>Virginia</td>\n",
       "    </tr>\n",
       "</table>"
      ],
      "text/plain": [
       "[(u'Virginia',)]"
      ]
     },
     "execution_count": 19,
     "metadata": {},
     "output_type": "execute_result"
    }
   ],
   "source": [
    "%%sql\n",
    "SELECT staff\n",
    "FROM courses\n",
    "GROUP BY staff\n",
    "HAVING MAX(students) = (\n",
    "    SELECT MAX(students)\n",
    "    FROM courses\n",
    ")"
   ]
  },
  {
   "cell_type": "markdown",
   "metadata": {},
   "source": [
    "### ANY\n",
    "\n",
    "This clause checks to see if a specific attribute is equivalent to any (at least one) tuple generated by a subquery. "
   ]
  },
  {
   "cell_type": "raw",
   "metadata": {},
   "source": [
    "SELECT DISTINCT staff\n",
    "FROM courses\n",
    "WHERE staff = ANY (\n",
    "    SELECT staff\n",
    "    FROM researchers\n",
    ")"
   ]
  },
  {
   "cell_type": "markdown",
   "metadata": {},
   "source": [
    "This query is not possible in SQLite as ANY is not supported, but we can model the functionality of it using the \"IN\" clause:"
   ]
  },
  {
   "cell_type": "code",
   "execution_count": 20,
   "metadata": {
    "collapsed": false
   },
   "outputs": [
    {
     "name": "stdout",
     "output_type": "stream",
     "text": [
      "Done.\n"
     ]
    },
    {
     "data": {
      "text/html": [
       "<table>\n",
       "    <tr>\n",
       "        <th>staff</th>\n",
       "    </tr>\n",
       "    <tr>\n",
       "        <td>Chris</td>\n",
       "    </tr>\n",
       "    <tr>\n",
       "        <td>Virginia</td>\n",
       "    </tr>\n",
       "</table>"
      ],
      "text/plain": [
       "[(u'Chris',), (u'Virginia',)]"
      ]
     },
     "execution_count": 20,
     "metadata": {},
     "output_type": "execute_result"
    }
   ],
   "source": [
    "%%sql\n",
    "SELECT DISTINCT staff\n",
    "FROM courses\n",
    "WHERE staff in (\n",
    "    SELECT staff\n",
    "    FROM researchers\n",
    ")"
   ]
  },
  {
   "cell_type": "markdown",
   "metadata": {},
   "source": [
    "### ALL\n",
    "\n",
    "The ALL clause is almost always used in conjunction with <> (not equals), as comparing a specific attribute with the results of a subquery using ALL would require the subquery to contain all duplicate tuples. What would the following query result in if ALL were supported in SQLite?"
   ]
  },
  {
   "cell_type": "raw",
   "metadata": {},
   "source": [
    "SELECT DISTINCT staff\n",
    "FROM courses\n",
    "WHERE staff <> ALL (\n",
    "    SELECT staff\n",
    "    FROM researchers\n",
    ")"
   ]
  },
  {
   "cell_type": "markdown",
   "metadata": {},
   "source": [
    "### Activity 2\n",
    "Can you find all the queries (without running them) that are equivalent to the below query?"
   ]
  },
  {
   "cell_type": "code",
   "execution_count": 21,
   "metadata": {
    "collapsed": false
   },
   "outputs": [
    {
     "name": "stdout",
     "output_type": "stream",
     "text": [
      "Done.\n"
     ]
    },
    {
     "data": {
      "text/html": [
       "<table>\n",
       "    <tr>\n",
       "        <th>course</th>\n",
       "    </tr>\n",
       "    <tr>\n",
       "        <td>CS245</td>\n",
       "    </tr>\n",
       "    <tr>\n",
       "        <td>CS267</td>\n",
       "    </tr>\n",
       "    <tr>\n",
       "        <td>CS224N</td>\n",
       "    </tr>\n",
       "</table>"
      ],
      "text/plain": [
       "[(u'CS245',), (u'CS267',), (u'CS224N',)]"
      ]
     },
     "execution_count": 21,
     "metadata": {},
     "output_type": "execute_result"
    }
   ],
   "source": [
    "%%sql\n",
    "SELECT c.course FROM courses as c WHERE hours = 4 AND EXISTS (\n",
    "    SELECT * FROM researchers as r WHERE r.staff = c.staff\n",
    ")"
   ]
  },
  {
   "cell_type": "raw",
   "metadata": {},
   "source": [
    "SELECT course FROM courses WHERE hours = 4 AND staff in (\n",
    "    SELECT staff FROM researchers\n",
    ")\n",
    "    "
   ]
  },
  {
   "cell_type": "raw",
   "metadata": {},
   "source": [
    "SELECT course FROM courses as c WHERE hours = 4 AND staff <> ALL (\n",
    "    SELECT staff FROM researchers as r WHERE c.staff != r.staff\n",
    ")"
   ]
  },
  {
   "cell_type": "raw",
   "metadata": {},
   "source": [
    "SELECT course FROM courses as c, researchers as r WHERE c.hours = 4 AND c.staff = r.staff"
   ]
  },
  {
   "cell_type": "markdown",
   "metadata": {},
   "source": [
    "Answer:"
   ]
  },
  {
   "cell_type": "code",
   "execution_count": 22,
   "metadata": {
    "collapsed": false
   },
   "outputs": [
    {
     "name": "stdout",
     "output_type": "stream",
     "text": [
      "Only the first is correct.\n"
     ]
    }
   ],
   "source": [
    "print 'Only the first is correct.'"
   ]
  }
 ],
 "metadata": {
  "kernelspec": {
   "display_name": "Python [Root]",
   "language": "python",
   "name": "Python [Root]"
  },
  "language_info": {
   "codemirror_mode": {
    "name": "ipython",
    "version": 2
   },
   "file_extension": ".py",
   "mimetype": "text/x-python",
   "name": "python",
   "nbconvert_exporter": "python",
   "pygments_lexer": "ipython2",
   "version": "2.7.12"
  }
 },
 "nbformat": 4,
 "nbformat_minor": 0
}
